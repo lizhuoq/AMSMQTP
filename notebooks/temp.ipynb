{
 "cells": [
  {
   "cell_type": "code",
   "execution_count": 8,
   "metadata": {},
   "outputs": [
    {
     "name": "stdout",
     "output_type": "stream",
     "text": [
      "layer1\n",
      "0.9973197257985481\n",
      "layer2\n",
      "0.988276834918309\n",
      "layer3\n",
      "0.9915791091843259\n",
      "layer4\n",
      "0.9995193120499749\n",
      "layer5\n",
      "0.9949013999670133\n"
     ]
    }
   ],
   "source": [
    "from cra_tibetan_ml import load_tibetan_filenames, load_cra_filenames\n",
    "\n",
    "import pickle\n",
    "\n",
    "import pandas as pd\n",
    "from sklearn.metrics import r2_score\n",
    "\n",
    "for l in range(1, 6):\n",
    "    with open(f\"../checkpoints/AutoML_split_method_spatial_layer_layer{l}_iid_adversial_validation_time_budget_600/automl_total.pkl\", \"rb\") as f:\n",
    "        automl = pickle.load(f)\n",
    "\n",
    "    with open(f\"../checkpoints/AutoML_split_method_spatial_layer_layer{l}_iid_adversial_validation_time_budget_360/feature_names.pkl\", \"rb\") as f:\n",
    "        feature_names = pickle.load(f)\n",
    "\n",
    "    tibetan_dataset_root = \"../data/processed/Tibetan/structured_dataset_v5/\"\n",
    "    cra_dataset_root = \"../data/processed/CRA/structured_dataset/\"\n",
    "    layer = f\"layer{l}\"\n",
    "\n",
    "    tibetan_filenames = load_tibetan_filenames(tibetan_dataset_root, layer)\n",
    "    cra_filenames = load_cra_filenames(cra_dataset_root, layer)\n",
    "    filenames = tibetan_filenames + cra_filenames\n",
    "\n",
    "    data = pd.concat([pd.read_csv(x) for x in filenames])\n",
    "    all_features = data.drop(\"soil_moisture\", axis=1)\n",
    "    labels = data[\"soil_moisture\"]\n",
    "\n",
    "    all_features['month'] = pd.DatetimeIndex(all_features['date_time']).month\n",
    "    all_features.drop(['date_time', 'LAND_COVER'], axis=1, inplace=True)\n",
    "    all_features = pd.get_dummies(all_features, columns=['month'], dtype=int)\\\n",
    "\n",
    "    X = all_features[feature_names].copy()\n",
    "    y = labels.copy()\n",
    "\n",
    "    pred = automl.predict(X)\n",
    "\n",
    "    print(layer)\n",
    "    print(r2_score(y, pred))\n",
    "    "
   ]
  }
 ],
 "metadata": {
  "kernelspec": {
   "display_name": "li",
   "language": "python",
   "name": "li"
  },
  "language_info": {
   "codemirror_mode": {
    "name": "ipython",
    "version": 3
   },
   "file_extension": ".py",
   "mimetype": "text/x-python",
   "name": "python",
   "nbconvert_exporter": "python",
   "pygments_lexer": "ipython3",
   "version": "3.9.13"
  }
 },
 "nbformat": 4,
 "nbformat_minor": 2
}
